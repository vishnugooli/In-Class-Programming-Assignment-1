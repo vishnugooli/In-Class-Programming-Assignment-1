{
  "nbformat": 4,
  "nbformat_minor": 0,
  "metadata": {
    "colab": {
      "provenance": []
    },
    "kernelspec": {
      "name": "python3",
      "display_name": "Python 3"
    },
    "language_info": {
      "name": "python"
    }
  },
  "cells": [
    {
      "cell_type": "code",
      "execution_count": 1,
      "metadata": {
        "colab": {
          "base_uri": "https://localhost:8080/"
        },
        "id": "Z4-UVktG_yP_",
        "outputId": "6e577726-e527-4a4f-ba37-6b524067eed2"
      },
      "outputs": [
        {
          "output_type": "stream",
          "name": "stdout",
          "text": [
            "Basic Vector:\n",
            "[15  8 11 15 20  8  3 14  8 11  1 14  1 20 16]\n",
            "\n",
            "2D Array after Reshape:\n",
            "[[15  8 11 15 20]\n",
            " [ 8  3 14  8 11]\n",
            " [ 1 14  1 20 16]]\n",
            "\n",
            "Array Shape: (3, 5)\n",
            "\n",
            "2D Array after replacing the max in each row by 0:\n",
            "[[15  8 11 15  0]\n",
            " [ 8  3  0  8 11]\n",
            " [ 1 14  1  0 16]]\n"
          ]
        }
      ],
      "source": [
        "import numpy as np\n",
        "#create a random vector of size 15 having only Integers in the range 1-20.\n",
        "vector1 = np.random.randint(low=1, high=21, size=15)\n",
        "print(\"Basic Vector:\")\n",
        "print(vector1)\n",
        "\n",
        "# Reshaping the array to 3 by 5\n",
        "array_2d = np.reshape(vector1, (3, 5))\n",
        "print(\"\\n2D Array after Reshape:\")\n",
        "print(array_2d)\n",
        "\n",
        "\n",
        "# Printing array shape\n",
        "print(\"\\nArray Shape:\", array_2d.shape)\n",
        "\n",
        "# Replacing the max in each row by 0\n",
        "array_2d[np.arange(len(array_2d)), np.argmax(array_2d, axis=1)] = 0\n",
        "print(\"\\n2D Array after replacing the max in each row by 0:\")\n",
        "print(array_2d)"
      ]
    },
    {
      "cell_type": "code",
      "source": [
        "import numpy as np\n",
        "\n",
        "# Creating a 2-dimensional array of size 4 x 3 (composed of 4-byte integer elements)\n",
        "array = np.array([[1, 2, 3], [4, 5, 6], [7, 8, 9], [10, 11, 12]], dtype=np.int32)\n",
        "\n",
        "# Printing the shape, type, and data type of the array\n",
        "print(\"Array Shape:\", array.shape)\n",
        "print(\"Array Type:\", type(array))\n",
        "print(\"Array Data Type:\", array.dtype)"
      ],
      "metadata": {
        "colab": {
          "base_uri": "https://localhost:8080/"
        },
        "id": "TayCGERzAMMI",
        "outputId": "1ae1eacf-5d7b-40ff-9351-97537d1ae4ee"
      },
      "execution_count": 2,
      "outputs": [
        {
          "output_type": "stream",
          "name": "stdout",
          "text": [
            "Array Shape: (4, 3)\n",
            "Array Type: <class 'numpy.ndarray'>\n",
            "Array Data Type: int32\n"
          ]
        }
      ]
    },
    {
      "cell_type": "code",
      "source": [
        "import numpy as np\n",
        "\n",
        "# Creating the given square array\n",
        "array = np.array([[3, -2], [1, 0]])\n",
        "\n",
        "# Computing the eigenvalues and right eigenvectors\n",
        "eigenvalues, eigenvectors = np.linalg.eig(array)\n",
        "\n",
        "# Printing the eigenvalues and right eigenvectors\n",
        "print(\"Eigenvalues:\", eigenvalues)\n",
        "print(\"Right Eigenvectors:\")\n",
        "print(eigenvectors)"
      ],
      "metadata": {
        "colab": {
          "base_uri": "https://localhost:8080/"
        },
        "id": "YmT2czNRAZkw",
        "outputId": "5418e327-b941-401b-fc61-e75c28432159"
      },
      "execution_count": 3,
      "outputs": [
        {
          "output_type": "stream",
          "name": "stdout",
          "text": [
            "Eigenvalues: [2. 1.]\n",
            "Right Eigenvectors:\n",
            "[[0.89442719 0.70710678]\n",
            " [0.4472136  0.70710678]]\n"
          ]
        }
      ]
    },
    {
      "cell_type": "code",
      "source": [
        "import numpy as np\n",
        "\n",
        "# Creating the given array\n",
        "array = np.array([[0, 1, 2], [3, 4, 5]])\n",
        "\n",
        "# Computing the sum of the diagonal elements\n",
        "diagonal_sum = np.trace(array)\n",
        "\n",
        "# Printing the sum of the diagonal elements\n",
        "print(\"Sum of the diagonal elements of the given array:\", diagonal_sum)\n"
      ],
      "metadata": {
        "colab": {
          "base_uri": "https://localhost:8080/"
        },
        "id": "QC6KCLOXAmku",
        "outputId": "ba0eae24-2971-4d57-b7a3-d0ebff205e2d"
      },
      "execution_count": 4,
      "outputs": [
        {
          "output_type": "stream",
          "name": "stdout",
          "text": [
            "Sum of the diagonal elements of the given array: 4\n"
          ]
        }
      ]
    },
    {
      "cell_type": "code",
      "source": [
        "import numpy as np\n",
        "\n",
        "# Creating the original array\n",
        "array = np.array([[1, 2], [3, 4], [5, 6]])\n",
        "\n",
        "# Reshaping the array to 3x2\n",
        "reshaped_array_3x2 = np.reshape(array, (3, 2))\n",
        "\n",
        "# Printing the reshaped array\n",
        "print(\"Original Array reshaped to 3x2:\")\n",
        "print(reshaped_array_3x2)\n",
        "\n",
        "# Reshaping the array to 2x3\n",
        "reshaped_array_2x3 = np.reshape(array, (2, 3))\n",
        "\n",
        "# Printing the reshaped array\n",
        "print(\"\\nOriginal Array reshaped to 2x3:\")\n",
        "print(reshaped_array_2x3)\n"
      ],
      "metadata": {
        "colab": {
          "base_uri": "https://localhost:8080/"
        },
        "id": "iUQJnAsPAr1y",
        "outputId": "4c50a604-4e3c-44da-dbe4-b938b19418f7"
      },
      "execution_count": 5,
      "outputs": [
        {
          "output_type": "stream",
          "name": "stdout",
          "text": [
            "Original Array reshaped to 3x2:\n",
            "[[1 2]\n",
            " [3 4]\n",
            " [5 6]]\n",
            "\n",
            "Original Array reshaped to 2x3:\n",
            "[[1 2 3]\n",
            " [4 5 6]]\n"
          ]
        }
      ]
    },
    {
      "cell_type": "code",
      "source": [
        "import matplotlib.pyplot as plt\n",
        "\n",
        "# Sample data\n",
        "languages = ['Java', 'Python', 'PHP', 'JavaScript', 'C#', 'C++']\n",
        "popularity = [22.2, 17.6, 8.8, 8, 7.7, 6.7]\n",
        "\n",
        "# Create a figure and axis object\n",
        "fig, ax = plt.subplots()\n",
        "\n",
        "#Explode first slice\n",
        "explode = (0.1, 0, 0, 0,0,0)\n",
        "\n",
        "# Set the title\n",
        "ax.set_title('Popularity of Programming Languages')\n",
        "\n",
        "# Create a pie chart\n",
        "ax.pie(popularity, labels=languages, autopct='%1.1f%%',explode=explode)\n",
        "\n",
        "# Show the chart\n",
        "plt.show()"
      ],
      "metadata": {
        "colab": {
          "base_uri": "https://localhost:8080/",
          "height": 428
        },
        "id": "IeOYomubAy_e",
        "outputId": "df2ca561-ccb9-483a-efe1-7f6d8e9c2289"
      },
      "execution_count": 6,
      "outputs": [
        {
          "output_type": "display_data",
          "data": {
            "text/plain": [
              "<Figure size 640x480 with 1 Axes>"
            ],
            "image/png": "[encoded data removed]"
          },
          "metadata": {}
        }
      ]
    }
  ]
}